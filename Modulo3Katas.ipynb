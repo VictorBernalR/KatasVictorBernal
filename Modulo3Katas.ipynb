{
 "cells": [
  {
   "cell_type": "code",
   "execution_count": 18,
   "metadata": {},
   "outputs": [
    {
     "name": "stdout",
     "output_type": "stream",
     "text": [
      "El asteroide aún no es peligroso, viaja a una velocidad de 24 km/s\n"
     ]
    }
   ],
   "source": [
    "velocidad = 24\n",
    "limite = 25\n",
    "\n",
    "if velocidad >= limite:\n",
    "    # statement to be run / instrucción a ejecutar\n",
    "    print(\"Un asteroide se acerca y viaja a una velocidad de \" + str(velocidad) + \" km/s\")\n",
    "else:\n",
    "    print(\"El asteroide aún no es peligroso, viaja a una velocidad de \" + str(velocidad) + \" km/s\")"
   ]
  },
  {
   "cell_type": "code",
   "execution_count": 31,
   "metadata": {},
   "outputs": [
    {
     "name": "stdout",
     "output_type": "stream",
     "text": [
      "!Hay un asteroide que se dirige a la tierra ahora, a una velocidad de 24 km/s! ¿Puedes ver su estela en el cielo?\n"
     ]
    }
   ],
   "source": [
    "velocidad = 24\n",
    "limite = 25\n",
    "\n",
    "#Si es menor a 20, únicamente se informa que hay un asteroide\n",
    "if (velocidad < 20):\n",
    "    print(\"¡Hay un asteroide, pero la velocidad de \" + str(velocidad) + \" km/s, es muy baja para poder verlo\")\n",
    "#Si es mayor o igual a 20, se pregunta si se puede ver en el cielo\n",
    "elif (velocidad >= 20 and velocidad <= limite):\n",
    "    print(\"!Hay un asteroide que se dirige a la tierra ahora, a una velocidad de \" + str(velocidad) + \" km/s! ¿Puedes ver su estela en el cielo?\" )\n",
    "#Si es mayor a 25, se da una advertencia\n",
    "elif (velocidad >= limite):\n",
    "    print(\"¡Advertencia! Un asteroide se acerca y viaja a una velocidad de \" + str(velocidad) + \" km/s\")"
   ]
  },
  {
   "cell_type": "code",
   "execution_count": 33,
   "metadata": {},
   "outputs": [
    {
     "name": "stdout",
     "output_type": "stream",
     "text": [
      "!Hay un asteroide que se dirige a la tierra ahora, a una velocidad de 25 km/s! Se puede ver en el cielo y causará graves daños\n"
     ]
    }
   ],
   "source": [
    "tamano = 260\n",
    "velocidad = 25\n",
    "limite = 25\n",
    "\n",
    "if(tamano > 25 and tamano <= 1000):\n",
    "    #Si es menor a 20, únicamente se informa que hay un asteroide\n",
    "    if (velocidad < 20):\n",
    "        print(\"¡Hay un asteroide que se dirige lentamente a la tierra a una velocidad de \" + str(velocidad) + \" km/s, por el tamaño, causara graves daños\")\n",
    "    #Si es mayor o igual a 20, se pregunta si se puede ver en el cielo\n",
    "    elif (velocidad >= 20 and velocidad <= limite):\n",
    "        print(\"!Hay un asteroide que se dirige a la tierra ahora, a una velocidad de \" + str(velocidad) + \" km/s! Se puede ver en el cielo y causará graves daños\" )\n",
    "    #Si es mayor a 25, se da una advertencia\n",
    "    elif (velocidad >= limite):\n",
    "        print(\"¡Advertencia! Un asteroide se acerca y viaja a una velocidad de \" + str(velocidad) + \" km/s, causará graves daños\")\n",
    "else:\n",
    "    #Si es menor a 20, únicamente se informa que hay un asteroide\n",
    "    if (velocidad < 20):\n",
    "        print(\"¡Hay un asteroide, pero la velocidad de \" + str(velocidad) + \" km/s, es muy baja para poder verlo, no hay riesgo inminente\")\n",
    "    #Si es mayor o igual a 20, se pregunta si se puede ver en el cielo\n",
    "    elif (velocidad >= 20 and velocidad <= limite):\n",
    "        print(\"!Hay un asteroide que se dirige a la tierra ahora, a una velocidad de \" + str(velocidad) + \" km/s! Se puede ver en el cielo, sin riesgo inminente\" )\n",
    "    #Si es mayor a 25, se da una advertencia\n",
    "    elif (velocidad >= limite):\n",
    "        print(\"¡Advertencia! Un asteroide se acerca y viaja a una velocidad de \" + str(velocidad) + \" km/s, , no hay riesgo inminente\")"
   ]
  }
 ],
 "metadata": {
  "interpreter": {
   "hash": "69695c92164d8595902caed7a675624726f7f2deb0be74b86b0d4a6b03c31ae2"
  },
  "kernelspec": {
   "display_name": "Python 3.10.2 64-bit (windows store)",
   "language": "python",
   "name": "python3"
  },
  "language_info": {
   "codemirror_mode": {
    "name": "ipython",
    "version": 3
   },
   "file_extension": ".py",
   "mimetype": "text/x-python",
   "name": "python",
   "nbconvert_exporter": "python",
   "pygments_lexer": "ipython3",
   "version": "3.10.2"
  },
  "orig_nbformat": 4
 },
 "nbformat": 4,
 "nbformat_minor": 2
}
