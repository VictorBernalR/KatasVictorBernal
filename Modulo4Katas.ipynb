{
 "cells": [
  {
   "cell_type": "code",
   "execution_count": null,
   "metadata": {},
   "outputs": [],
   "source": [
    "text = \"\"\"Interesting facts about the Moon. The Moon is Earth's only satellite. There are several interesting facts about the Moon and how it affects life here on Earth. \n",
    "On average, the Moon moves 4cm away from the Earth every year. This yearly drift is not significant enough to cause immediate effects on Earth. The highest daylight temperature of the Moon is 127 C.\"\"\"\n",
    "# Añade el código necesario para dividir la cadena\n",
    "text.split(\".\")"
   ]
  },
  {
   "cell_type": "code",
   "execution_count": null,
   "metadata": {},
   "outputs": [],
   "source": [
    "# Define las palabras pista: average, temperature y distance suenan bien\n",
    "\"distance\" in text #Salida: False \n",
    "text.find(\"average\") #Salida: 164\n",
    "text.count(\"fact\") #Salida: 2"
   ]
  },
  {
   "cell_type": "code",
   "execution_count": null,
   "metadata": {},
   "outputs": [],
   "source": [
    "# Ciclo for para recorrer la cadena\n",
    "for item in text.split():\n",
    "    if \"average\" in item:\n",
    "        print(item)\n",
    "    if item.find(\"facts\") >= 0:\n",
    "        print(item)\n",
    "    if item.count(\"distance\") > 0:\n",
    "        print(item)"
   ]
  },
  {
   "cell_type": "code",
   "execution_count": null,
   "metadata": {},
   "outputs": [],
   "source": [
    "# Ciclo para cambiar C a Celsius\n",
    "arr = text.split()\n",
    "con = 0\n",
    "for item in arr:\n",
    "    if item.endswith(\"C.\"):\n",
    "        arr[con] = \"Celsius\"\n",
    "    con = con + 1\n",
    "\" \".join(arr)"
   ]
  },
  {
   "cell_type": "markdown",
   "metadata": {},
   "source": [
    "EJERCICIOS 2"
   ]
  },
  {
   "cell_type": "code",
   "execution_count": 39,
   "metadata": {},
   "outputs": [
    {
     "name": "stdout",
     "output_type": "stream",
     "text": [
      "Gravity Data About Planet: Earth And The Moon\n",
      "Planet: Earth \n",
      "Gravedad en Moon: 1.6199999999999999\n",
      "Gravity Data About Planet: Earth And The Moon\n",
      "Planet: Earth \n",
      "Gravedad en Moon: 1.6199999999999999\n",
      "\n",
      "Gravity data about planet: Marte  and the Ganímedes\n",
      "Nombre del planeta: Marte \n",
      "Gravedad en Ganímedes: 0.00143\n",
      "\n"
     ]
    }
   ],
   "source": [
    "# Datos con los que vas a trabajar\n",
    "name = \"Moon\"\n",
    "gravity = 0.00162 # in kms\n",
    "planet = \"Earth\"\n",
    "\n",
    "#Creamos el título\n",
    "titulo = \"Gravity data about planet: \" + planet + \" and the \" + name\n",
    "\n",
    "# Creamos la plantilla\n",
    "plantilla = (f'Planet: {planet} \\nGravedad en {name}: {gravity * 1000}')\n",
    "\n",
    "# Unión de ambas cadenas\n",
    "completo = f\"\"\"{titulo.title()}\n",
    "{plantilla}\"\"\"\n",
    "print(completo)\n",
    "\n",
    "#nuevos datos\n",
    "planet = 'Marte '\n",
    "gravity  = 0.00143\n",
    "name = 'Ganímedes'\n",
    "\n",
    "#Comprobamos plantilla\n",
    "print(completo)\n",
    "\n",
    "planCompleta = \"\"\"\n",
    "Gravity data about planet: {planeta} and the {nombreLuna}\n",
    "Nombre del planeta: {planeta}\n",
    "Gravedad en {nombreLuna}: {gravedad}\n",
    "\"\"\"\n",
    "print(planCompleta.format(nombreLuna=name, planeta=planet, gravedad=gravity))\n",
    "\n"
   ]
  }
 ],
 "metadata": {
  "interpreter": {
   "hash": "69695c92164d8595902caed7a675624726f7f2deb0be74b86b0d4a6b03c31ae2"
  },
  "kernelspec": {
   "display_name": "Python 3.10.2 64-bit (windows store)",
   "language": "python",
   "name": "python3"
  },
  "language_info": {
   "codemirror_mode": {
    "name": "ipython",
    "version": 3
   },
   "file_extension": ".py",
   "mimetype": "text/x-python",
   "name": "python",
   "nbconvert_exporter": "python",
   "pygments_lexer": "ipython3",
   "version": "3.10.2"
  },
  "orig_nbformat": 4
 },
 "nbformat": 4,
 "nbformat_minor": 2
}
