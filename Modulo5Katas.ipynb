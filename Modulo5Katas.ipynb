{
 "cells": [
  {
   "cell_type": "code",
   "execution_count": 4,
   "metadata": {},
   "outputs": [
    {
     "name": "stdout",
     "output_type": "stream",
     "text": [
      "628949330\n",
      "390577534\n",
      "149597870\n",
      "778547200\n"
     ]
    }
   ],
   "source": [
    "# Crear variables para almacenar las dos distancias\n",
    "Tierra = 149597870\n",
    "Jupiter = 778547200\n",
    "\n",
    "# Calcular la distancia entre planetas\n",
    "DistanciaKm = Jupiter - Tierra\n",
    "DistanciaMi = (Jupiter - Tierra) * 0.621\n",
    "\n",
    "# Se utiliza round para redondear la distancia en millas\n",
    "print(DistanciaKm)\n",
    "print(round(DistanciaMi))\n",
    "\n",
    "# Almacenar las entradas del usuario\n",
    "DistanciaSolPrimero = input('¿Cuál es la distancia del sol para el planeta Tierra?')\n",
    "DistanciaSolSegundo = input('¿Cuál es la distancia del sol para el planeta Tierra?')\n",
    "\n",
    "# Convierte las cadenas de ambos planetas a números enteros\n",
    "print(int(DistanciaSolPrimero)) \n",
    "print(int(DistanciaSolSegundo))\n",
    "\n",
    "distanciaAbsKm = abs(DistanciaSolPrimero - DistanciaSolSegundo)\n",
    "distanciaAbsMi = abs(DistanciaKm)\n",
    "\n",
    "print(distanciaAbsKm)\n",
    "print(distanciaAbsMi)\n"
   ]
  }
 ],
 "metadata": {
  "interpreter": {
   "hash": "69695c92164d8595902caed7a675624726f7f2deb0be74b86b0d4a6b03c31ae2"
  },
  "kernelspec": {
   "display_name": "Python 3.10.2 64-bit (windows store)",
   "language": "python",
   "name": "python3"
  },
  "language_info": {
   "codemirror_mode": {
    "name": "ipython",
    "version": 3
   },
   "file_extension": ".py",
   "mimetype": "text/x-python",
   "name": "python",
   "nbconvert_exporter": "python",
   "pygments_lexer": "ipython3",
   "version": "3.10.2"
  },
  "orig_nbformat": 4
 },
 "nbformat": 4,
 "nbformat_minor": 2
}
