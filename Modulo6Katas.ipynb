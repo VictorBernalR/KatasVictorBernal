{
 "cells": [
  {
   "cell_type": "code",
   "execution_count": 7,
   "metadata": {},
   "outputs": [
    {
     "name": "stdout",
     "output_type": "stream",
     "text": [
      "['Mercurio', 'Venus', 'Tierra', 'Marte', 'Jupiter', 'Saturno', 'Urano', 'Neptuno']\n",
      "Plutón\n"
     ]
    }
   ],
   "source": [
    "# Creamos la lista de planetas y la mostramos\n",
    "planetas = ['Mercurio', 'Venus', 'Tierra', 'Marte', 'Jupiter', 'Saturno', 'Urano', 'Neptuno']\n",
    "print(planetas)\n",
    "\n",
    "planetas.append('Plutón')\n",
    "print(planetas[-1])"
   ]
  },
  {
   "cell_type": "markdown",
   "metadata": {},
   "source": [
    "Ejercicio 2"
   ]
  },
  {
   "cell_type": "code",
   "execution_count": 6,
   "metadata": {},
   "outputs": [
    {
     "name": "stdout",
     "output_type": "stream",
     "text": [
      "Los planetas más cercanos al sol a partir del planeta Tierra son: \n",
      "['Mercurio', 'Venus']\n",
      "Los planetas más lejanos al sol a partir del planeta Tierra son: \n",
      "['Tierra', 'Marte', 'Jupiter', 'Saturno', 'Urano', 'Neptuno']\n"
     ]
    }
   ],
   "source": [
    "# Lista de planetas\n",
    "planetas = ['Mercurio', 'Venus', 'Tierra', 'Marte', 'Jupiter', 'Saturno', 'Urano', 'Neptuno']\n",
    "\n",
    "# Solicitamos el nombre del planeta\n",
    "NvoPlaneta = input('Captura el nombre del planeta')\n",
    "\n",
    "#Buscamos el planeta en la lista\n",
    "IndicePlaneta = planetas.index(NvoPlaneta)\n",
    "\n",
    "# Muestra los planetas más cercanos al sol\n",
    "print('Los planetas más cercanos al sol a partir del planeta ' + NvoPlaneta + ' son: ')\n",
    "print(planetas[0:IndicePlaneta])\n",
    "\n",
    "# Muestra los planetas más lejanos al sol\n",
    "\n",
    "print('Los planetas más lejanos al sol a partir del planeta ' + NvoPlaneta + ' son: ')\n",
    "print(planetas[IndicePlaneta: ])\n"
   ]
  }
 ],
 "metadata": {
  "interpreter": {
   "hash": "69695c92164d8595902caed7a675624726f7f2deb0be74b86b0d4a6b03c31ae2"
  },
  "kernelspec": {
   "display_name": "Python 3.10.2 64-bit (windows store)",
   "language": "python",
   "name": "python3"
  },
  "language_info": {
   "codemirror_mode": {
    "name": "ipython",
    "version": 3
   },
   "file_extension": ".py",
   "mimetype": "text/x-python",
   "name": "python",
   "nbconvert_exporter": "python",
   "pygments_lexer": "ipython3",
   "version": "3.10.2"
  },
  "orig_nbformat": 4
 },
 "nbformat": 4,
 "nbformat_minor": 2
}
