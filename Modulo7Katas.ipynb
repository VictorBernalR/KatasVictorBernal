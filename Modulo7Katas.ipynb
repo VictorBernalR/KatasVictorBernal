{
 "cells": [
  {
   "cell_type": "code",
   "execution_count": 7,
   "metadata": {},
   "outputs": [
    {
     "name": "stdout",
     "output_type": "stream",
     "text": [
      "['Mercurio', 'Venus', 'Tierra', 'Marte', 'Jupiter', 'Saturno', 'Urano', 'Neptuno']\n",
      "Mercurio\n",
      "Venus\n",
      "Tierra\n",
      "Marte\n",
      "Jupiter\n",
      "Saturno\n",
      "Urano\n",
      "Neptuno\n"
     ]
    }
   ],
   "source": [
    "# Declara dos variables\n",
    "planet = input('Dame el valor del nuevo planeta')\n",
    "planets = []\n",
    "\n",
    "# Escribe el ciclo while solicitado\n",
    "while planet.lower() != 'done':\n",
    "    planets.append(planet)\n",
    "    planet = input('Dame el valor del nuevo planeta')\n",
    "\n",
    "print(planets)\n",
    "\n",
    "\n",
    "# Escribe tu ciclo for para iterar en una lista de planetas\n",
    "for planeta in planets:\n",
    "    print(planeta)"
   ]
  }
 ],
 "metadata": {
  "interpreter": {
   "hash": "69695c92164d8595902caed7a675624726f7f2deb0be74b86b0d4a6b03c31ae2"
  },
  "kernelspec": {
   "display_name": "Python 3.10.2 64-bit (windows store)",
   "language": "python",
   "name": "python3"
  },
  "language_info": {
   "codemirror_mode": {
    "name": "ipython",
    "version": 3
   },
   "file_extension": ".py",
   "mimetype": "text/x-python",
   "name": "python",
   "nbconvert_exporter": "python",
   "pygments_lexer": "ipython3",
   "version": "3.10.2"
  },
  "orig_nbformat": 4
 },
 "nbformat": 4,
 "nbformat_minor": 2
}
