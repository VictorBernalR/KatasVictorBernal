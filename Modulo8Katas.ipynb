{
 "cells": [
  {
   "cell_type": "code",
   "execution_count": 17,
   "metadata": {},
   "outputs": [
    {
     "name": "stdout",
     "output_type": "stream",
     "text": [
      "El planeta marte tiene 2lunas\n",
      "marte tiene una circunferencia polar de 6752 y una circunferencia ecuatorial de 6792\n"
     ]
    }
   ],
   "source": [
    "# Crea un diccionario llamado planet con los datos propuestos\n",
    "planet = {\n",
    "    'name': 'marte',\n",
    "    'moons': 2\n",
    "}\n",
    "\n",
    "# Muestra el nombre del planeta y el número de lunas que tiene.\n",
    "print('El planeta ' + planet.get('name') + ' tiene ' + str(planet.get('moons')) + 'lunas')\n",
    "#print(f'{planet[\"name\"]} tiene {planet[\"moons\"]} lunas')\n",
    "\n",
    "\n",
    "# Agrega la clave circunferencia con los datos proporcionados previamente\n",
    "planet['circunferencia'] = {\n",
    "    'polar': 6752,\n",
    "    'ecuatorial': 6792\n",
    "}\n",
    "\n",
    "# Imprime el nombre del planeta con su circunferencia polar.\n",
    "print(f'{planet[\"name\"]} tiene una circunferencia polar de {planet[\"circunferencia\"][\"polar\"]} y una circunferencia ecuatorial de {planet[\"circunferencia\"][\"ecuatorial\"]}')\n"
   ]
  },
  {
   "cell_type": "markdown",
   "metadata": {},
   "source": [
    "Ejercicio 2"
   ]
  },
  {
   "cell_type": "code",
   "execution_count": 25,
   "metadata": {},
   "outputs": [
    {
     "name": "stdout",
     "output_type": "stream",
     "text": [
      "214\n",
      "0.056074766355140186\n"
     ]
    }
   ],
   "source": [
    "# Planets and moons\n",
    "\n",
    "planet_moons = {\n",
    "    'mercury': 0,\n",
    "    'venus': 0,\n",
    "    'earth': 1,\n",
    "    'mars': 2,\n",
    "    'jupiter': 79,\n",
    "    'saturn': 82,\n",
    "    'uranus': 27,\n",
    "    'neptune': 14,\n",
    "    'pluto': 5,\n",
    "    'haumea': 2,\n",
    "    'makemake': 1,\n",
    "    'eris': 1\n",
    "}\n",
    "\n",
    "# Añade el código para determinar el número de lunas.\n",
    "# Lista de lunas\n",
    "moons = planet_moons.values()\n",
    "# numero de planetas\n",
    "planets = len(planet_moons.keys())\n",
    "\n",
    "# Añade el código para determinar el número de lunas.\n",
    "total_moons = 0\n",
    "for moon in moons:\n",
    "    total_moons += moon\n",
    "#print(total_moons)\n",
    "\n",
    "# Calcula el promedio\n",
    "promedio = planets / total_moons\n",
    "\n",
    "#Muestra el promedio\n",
    "print(promedio)\n"
   ]
  }
 ],
 "metadata": {
  "interpreter": {
   "hash": "69695c92164d8595902caed7a675624726f7f2deb0be74b86b0d4a6b03c31ae2"
  },
  "kernelspec": {
   "display_name": "Python 3.10.2 64-bit (windows store)",
   "language": "python",
   "name": "python3"
  },
  "language_info": {
   "codemirror_mode": {
    "name": "ipython",
    "version": 3
   },
   "file_extension": ".py",
   "mimetype": "text/x-python",
   "name": "python",
   "nbconvert_exporter": "python",
   "pygments_lexer": "ipython3",
   "version": "3.10.2"
  },
  "orig_nbformat": 4
 },
 "nbformat": 4,
 "nbformat_minor": 2
}
