{
 "cells": [
  {
   "cell_type": "code",
   "execution_count": 11,
   "metadata": {},
   "outputs": [
    {
     "name": "stdout",
     "output_type": "stream",
     "text": [
      "Promedio: 32\n",
      "Reporte de combustible:\n",
      "    Promedio: 43\n",
      "    Combustible 1: 30\n",
      "    Combustible 2: 40\n",
      "    Combustible 3: 60\n"
     ]
    }
   ],
   "source": [
    "# Función para leer 3 tanques de combustible y muestre el promedio\n",
    "def combustible(comb1, comb2, comb3):\n",
    "    promedio = round((comb1 + comb2 + comb3) / 3)\n",
    "    return 'Promedio: ' + str(promedio)\n",
    "\n",
    "\n",
    "# Llamamos a la función que genera el reporte print(funcion(tanque1, tanque2, tanque3))\n",
    "print(combustible(10, 30, 55))\n",
    "\n",
    "# Funcion promedio\n",
    "def promedio(combustibles):\n",
    "    totalSum = sum(combustibles)\n",
    "    cantidad = len(combustibles)\n",
    "    return round(totalSum / cantidad)\n",
    "\n",
    "# Actualizamos funcion de combustible\n",
    "def combustible2(comb1, comb2, comb3):\n",
    "    return f\"\"\"Reporte de combustible:\n",
    "    Promedio: {promedio([comb1, comb2, comb3])}\n",
    "    Combustible 1: {comb1}\n",
    "    Combustible 2: {comb2}\n",
    "    Combustible 3: {comb3}\"\"\"\n",
    "\n",
    "#Llamamos a la funcion\n",
    "print(combustible2(30, 40, 60))"
   ]
  },
  {
   "cell_type": "markdown",
   "metadata": {},
   "source": [
    "Ejercicio 2"
   ]
  },
  {
   "cell_type": "code",
   "execution_count": 19,
   "metadata": {},
   "outputs": [
    {
     "name": "stdout",
     "output_type": "stream",
     "text": [
      "Reporte de la misión\n",
      "    Destino: Jupiter\n",
      "    Hora de prelanzamiento: 10:30\n",
      "    Tiempo de vuelo: 55hrs\n",
      "    Tanque Externo: 55lts\n",
      "    Tanque interno 1000lts\n",
      "Reporte de la misión\n",
      "    Destino: Luna\n",
      "    Tiempo de vuelo: 37\n",
      "    Gasolina: 150000 \n",
      "tanque externo con 100000 litros\n",
      "tanque interno con 50000 litros\n"
     ]
    }
   ],
   "source": [
    "# Función con un informe preciso de la misión. Considera hora de prelanzamiento, tiempo de vuelo, destino, tanque externo y tanque interno\n",
    "def mision_info(HrPrelanzamiento, TiempoVuelo, Destino, TanExterno, TanInterno):\n",
    "    return f\"\"\"Reporte de la misión\n",
    "    Destino: {Destino}\n",
    "    Hora de prelanzamiento: {HrPrelanzamiento}\n",
    "    Tiempo de vuelo: {TiempoVuelo}\n",
    "    Tanque Externo: {TanExterno}\n",
    "    Tanque interno {TanInterno}\"\"\"\n",
    "\n",
    "# Llamamos a la función que genera el reporte\n",
    "print(mision_info('10:30', '55hrs', 'Jupiter', '55lts', '1000lts'))\n",
    "\n",
    "def mission_report(Destino, *minutos, **tanques):\n",
    "    reporteFinal = f\"\"\"Reporte de la misión\n",
    "    Destino: {Destino}\n",
    "    Tiempo de vuelo: {sum(minutos)}\n",
    "    Gasolina: {sum(tanques.values())} \"\"\"\n",
    "\n",
    "    for tanque, litros in tanques.items():\n",
    "        reporteFinal += f\"\\ntanque {tanque} con {litros} litros\"\n",
    "    \n",
    "    return reporteFinal\n",
    "\n",
    "\n",
    "print(mission_report(\"Luna\", 5, 10, 22, externo = 100000, interno = 50000))"
   ]
  }
 ],
 "metadata": {
  "interpreter": {
   "hash": "69695c92164d8595902caed7a675624726f7f2deb0be74b86b0d4a6b03c31ae2"
  },
  "kernelspec": {
   "display_name": "Python 3.10.2 64-bit (windows store)",
   "language": "python",
   "name": "python3"
  },
  "language_info": {
   "codemirror_mode": {
    "name": "ipython",
    "version": 3
   },
   "file_extension": ".py",
   "mimetype": "text/x-python",
   "name": "python",
   "nbconvert_exporter": "python",
   "pygments_lexer": "ipython3",
   "version": "3.10.2"
  },
  "orig_nbformat": 4
 },
 "nbformat": 4,
 "nbformat_minor": 2
}
